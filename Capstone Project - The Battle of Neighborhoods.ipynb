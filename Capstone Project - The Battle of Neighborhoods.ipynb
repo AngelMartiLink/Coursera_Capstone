{
    "cells": [
        {
            "metadata": {
                "collapsed": true
            },
            "cell_type": "markdown",
            "source": "<h1>Capstone Project - The Battle of the Neighborhoods (Week 1)\n<h2>Applied Data Science Capstone by IBM/Coursera</h2>"
        },
        {
            "metadata": {},
            "cell_type": "markdown",
            "source": "<h2>Table of Contents</h2>\n<ol>\n    <li> <a href=\"#Introduction\">Introduction: Business Problem</a></li>\n    <li>Data</li>\n</ol>"
        },
        {
            "metadata": {},
            "cell_type": "markdown",
            "source": "<h2 name=\"Introduction\">1. Introduction: Business Problem</a></h2>"
        },
        {
            "metadata": {},
            "cell_type": "markdown",
            "source": "In this project, I will try to find what characterizes each neighborhood of the borough Sant Mart\u00ed, in Barcelona, Spain.\n\nSpecifically, this report will be targeted to people who want to know which are the 10th most common places of each neighborhood in this borough, clustered by similar neighborhoods.\n\nI will use my data science powers to find and express it clearly to the stakeholders."
        },
        {
            "metadata": {},
            "cell_type": "markdown",
            "source": "<h2 href>2.- Data</h2>"
        },
        {
            "metadata": {},
            "cell_type": "markdown",
            "source": "Based on definition of our problem, factors that will influence our decission are:\n\n<ul>\n    <li>the division of the neighborhoods of the borough Sant Mart\u00ed</li>\n    <li>the quantity of each venue category for each neighborhood</li>\n</ul>\n\nTo collect the division of the neighborhoods of the borough Sant Mart\u00ed, I will use its own page of Wikipedia: https://en.wikipedia.org/wiki/Districts_of_Barcelona\n\nThe quantity of each venue category for each neighborhood, will be generated algorithmically using the **Foursquare API**"
        }
    ],
    "metadata": {
        "kernelspec": {
            "name": "python3",
            "display_name": "Python 3.7",
            "language": "python"
        },
        "language_info": {
            "name": "python",
            "version": "3.7.10",
            "mimetype": "text/x-python",
            "codemirror_mode": {
                "name": "ipython",
                "version": 3
            },
            "pygments_lexer": "ipython3",
            "nbconvert_exporter": "python",
            "file_extension": ".py"
        }
    },
    "nbformat": 4,
    "nbformat_minor": 1
}